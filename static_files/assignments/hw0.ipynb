{
  "cells": [
    {
      "cell_type": "markdown",
      "metadata": {
        "id": "view-in-github",
        "colab_type": "text"
      },
      "source": [
        "<a href=\"https://colab.research.google.com/github/hananeoth/gl/blob/main/static_files/assignments/hw0.ipynb\" target=\"_parent\"><img src=\"https://colab.research.google.com/assets/colab-badge.svg\" alt=\"Open In Colab\"/></a>"
      ]
    },
    {
      "cell_type": "markdown",
      "metadata": {
        "id": "9g7dj0YgAf3m"
      },
      "source": [
        "# Devoir 1 &mdash; Algèbre linéaire et manipulation d'images sous Python\n",
        "**Échéance : 16 février 2025 &ndash; 23h59**\n",
        "<br><br>\n",
        "\n",
        "## Récupération des fichiers dans Colab"
      ]
    },
    {
      "cell_type": "code",
      "execution_count": 32,
      "metadata": {
        "id": "6PDlKIcOAf3u"
      },
      "outputs": [],
      "source": [
        "#\n",
        "# Exécutez cette cellule pour préparer votre environnement Colab.\n",
        "#\n",
        "%%capture\n",
        "!wget https://benhadid.github.io/m1vpo/static_files/assignments/hw0.zip\n",
        "!unzip hw0.zip\n",
        "!mv hw0/* .\n",
        "!rm -rf hw0\n",
        "!rm -rf hw0.zip"
      ]
    },
    {
      "cell_type": "markdown",
      "metadata": {
        "id": "kG_Cm0jZAf3x"
      },
      "source": [
        "## Initialisation du bloc-notes"
      ]
    },
    {
      "cell_type": "code",
      "execution_count": 33,
      "metadata": {
        "colab": {
          "base_uri": "https://localhost:8080/"
        },
        "id": "HdtQrF4TAf3z",
        "outputId": "17668c5f-fb4d-4a9f-fb37-b8ea0adeca15"
      },
      "outputs": [
        {
          "output_type": "stream",
          "name": "stdout",
          "text": [
            "The autoreload extension is already loaded. To reload it, use:\n",
            "  %reload_ext autoreload\n"
          ]
        }
      ],
      "source": [
        "#Importe la fonction print_function à partir de version future de python\n",
        "from __future__ import print_function\n",
        "\n",
        "#Setup\n",
        "\n",
        "# Le module random implémente un générateur de nombres pseudo-aléatoire\n",
        "import random\n",
        "\n",
        "# Numpy est le paquetage principal utilisé pour le calcul scientifique dans Python.\n",
        "# Ce paquetage sera l'une de nos bibliothèques les plus utilisées dans ce cours\n",
        "import numpy as np\n",
        "\n",
        "\n",
        "#Importe toutes les méthodes dans les fichiers: linalg.py et imageManip.py\n",
        "from linalg import *\n",
        "from imageManip import *\n",
        "\n",
        "\n",
        "#Matplotlib est une bibliothèque de traçage(dessin) pour python\n",
        "import matplotlib.pyplot as plt\n",
        "# Le code suivant fait apparaître les figure de matplotlib en ligne dans le\n",
        "# notebook au lieu de lancer une nouvelle fenêtre.\n",
        "%matplotlib inline\n",
        "plt.rcParams['figure.figsize'] = (10.0, 8.0) # fixer les dimensions par défaut des figures\n",
        "plt.rcParams['image.interpolation'] = 'nearest'\n",
        "plt.rcParams['image.cmap'] = 'gray'\n",
        "\n",
        "\n",
        "# Quelques instructions supplémentaires pour que le notebook recharge les modules externes en python;\n",
        "# voir http://stackoverflow.com/questions/1907993/autoreload-of-modules-in-ipython\n",
        "%load_ext autoreload\n",
        "%autoreload 2\n",
        "%reload_ext autoreload"
      ]
    },
    {
      "cell_type": "markdown",
      "metadata": {
        "id": "MCNCelKHAf31"
      },
      "source": [
        "## 1. Description\n",
        "\n",
        "Nous allons explorer dans ce devoir des notions de base d'algèbre linéaire et quelques techniques de manipulation d'images sous Python. Cela permettra de mettre tout le monde à la même page par rapport aux compétences requises pour ce module.\n",
        "\n",
        "Par ailleurs, l'autre objectif de ce devoir est de vous initier/inciter à rechercher sur la toile les fonctionnalités python susceptible de vous aider à résoudre un problème donné. Ainsi, dans de nombreuses fonctions que vous implémenterez ici, vous devez identifier / utiliser les fonctions python qui peuvent vous assister."
      ]
    },
    {
      "cell_type": "markdown",
      "metadata": {
        "tags": [],
        "id": "D5IJzeN2Af32"
      },
      "source": [
        "## 2. Algèbre Linéaire\n",
        "Dans cette section, nous allons revoir quelques notions d'algèbre linéaire et apprendre à manipuler des vecteurs et des matrices en python à l'aide de Numpy. À la fin de cette section, vous aurez implémenté toutes les méthodes requises dans le fichier `linalg.py`."
      ]
    },
    {
      "cell_type": "markdown",
      "metadata": {
        "id": "XzIdFn-RAf33"
      },
      "source": [
        "### Question 2.1\n",
        "En premier lieu, définissez les matrices et vecteurs suivants à l'aide de Numpy. En ce sens, cherchez sur la toile la documentation sur `np.array()`. Dans le bloc de code suivant, définissez $M$ comme une matrice $(4, 3)$, $a$ comme un vecteur ligne $(1, 3)$ et $b$ comme un vecteur colonne $(3, 1)$ :\n",
        "\n",
        "$$\n",
        "M = \\begin{bmatrix}\n",
        "1 & 2 & 3 \\\\\n",
        "4 & 5 & 6 \\\\\n",
        "7 & 8 & 9 \\\\\n",
        "10 & 11 & 12 \\end{bmatrix}\n",
        ", \\qquad\n",
        "a = \\begin{bmatrix}\n",
        "1 & 1 & 0\n",
        "\\end{bmatrix}\n",
        ", \\qquad\n",
        "b = \\begin{bmatrix}\n",
        "-1 \\\\ 2 \\\\ 5\n",
        "\\end{bmatrix}  \n",
        "$$"
      ]
    },
    {
      "cell_type": "code",
      "execution_count": 7,
      "metadata": {
        "scrolled": true,
        "colab": {
          "base_uri": "https://localhost:8080/"
        },
        "id": "WXByL9wRAf35",
        "outputId": "72ed5d38-dc4b-4753-9b12-dfd803de2178"
      },
      "outputs": [
        {
          "output_type": "stream",
          "name": "stdout",
          "text": [
            "M = \n",
            " [[ 1  2  3]\n",
            " [ 4  5  6]\n",
            " [ 7  8  9]\n",
            " [10 11 12]]\n",
            "Dimension de M :  (4, 3)\n",
            "\n",
            "a =  [1 1 0]\n",
            "Dimension de a :  (3,)\n",
            "\n",
            "b =  [[-1]\n",
            " [ 2]\n",
            " [ 5]]\n",
            "Dimension de b :  (3, 1)\n"
          ]
        }
      ],
      "source": [
        "### VOTRE CODE ICI - DEBUT (remplacez l'instruction 'pass' par votre code)\n",
        "M = np.array([[1,2,3],\n",
        "              [4,5,6],\n",
        "              [7,8,9],\n",
        "              [10,11,12]])\n",
        "a= np.array([1,1,0])\n",
        "b= np.array([[-1],[2],[5]])\n",
        "### VOTRE CODE ICI - FIN\n",
        "print(\"M = \\n\", M)\n",
        "print(\"Dimension de M : \", M.shape)\n",
        "print()\n",
        "print(\"a = \", a)\n",
        "print(\"Dimension de a : \", a.shape)\n",
        "print()\n",
        "print(\"b = \", b)\n",
        "print(\"Dimension de b : \", b.shape)"
      ]
    },
    {
      "cell_type": "markdown",
      "metadata": {
        "id": "aC-Z4BHoAf38"
      },
      "source": [
        "### Question 2.2\n",
        "Implementez la méthode `dot_product()` dans `linalg.py` et vérifiez qu'elle retourne une réponse corrècte pour le produit scalaire $\\: b^T a^T$."
      ]
    },
    {
      "cell_type": "code",
      "execution_count": 25,
      "metadata": {
        "colab": {
          "base_uri": "https://localhost:8080/"
        },
        "id": "8H5l4RDuAf39",
        "outputId": "dc48c0e3-c24f-4968-ef58-aedeed991b7f"
      },
      "outputs": [
        {
          "output_type": "stream",
          "name": "stdout",
          "text": [
            "[[1]]\n"
          ]
        }
      ],
      "source": [
        "# Nous allons tester ici votre implémentation de dot_product(). La réponse corrècte est : [[1]].\n",
        "import numpy as np\n",
        "from linalg import dot_product\n",
        "\n",
        "a = np.array([[1, 1, 0]])  # (1,3)\n",
        "b = np.array([[-1], [2], [5]])  # (3,1)\n",
        "\n",
        "result = dot_product(a, b)\n",
        "print(result)  # Doit afficher [[1]]\n",
        "\n",
        "\n",
        "\n",
        "\n"
      ]
    },
    {
      "cell_type": "markdown",
      "metadata": {
        "id": "WMEjkP7gAf3_"
      },
      "source": [
        "### Question 2.3\n",
        "Implémentez la méthode `complicated_matrix_function()` dans `linalg.py` et utilisez là pour calculer le produit $(b^T a^T) M a^T$\n",
        "\n",
        "NOTE IMPORTANTE : La méthode `complicated_matrix_function()` s'attend à ce que toutes les entrées soient des tableaux Numpy bidimensionnels. Ceci est nécessaire car les tableaux Numpy 2D peuvent être transposés, tandis que les tableaux 1D (c.-à-d. les vecteurs) ne peuvent pas être transposés.\n",
        "\n",
        "Pour transposer un tableau bidimensionnel `array`, vous pouvez utiliser la syntaxe `array.T`"
      ]
    },
    {
      "cell_type": "code",
      "execution_count": 29,
      "metadata": {
        "colab": {
          "base_uri": "https://localhost:8080/"
        },
        "id": "ZMPZ5oVEAf4A",
        "outputId": "a525fd2d-20ba-47af-fd4a-09171a45ad45"
      },
      "outputs": [
        {
          "output_type": "stream",
          "name": "stdout",
          "text": [
            "[[ 9]\n",
            " [21]\n",
            " [33]\n",
            " [45]]\n",
            "\n",
            "dimension :  (4, 1)\n"
          ]
        }
      ],
      "source": [
        "# La réponse retournée doit être $[[3], [9], [15], [21]]$ de dimension (4, 1).\n",
        "import numpy as np\n",
        "from linalg import complicated_matrix_function  # Import de la fonction\n",
        "\n",
        "# Définition des matrices de test\n",
        "M = np.array([[1, 2], [3, 4], [5, 6], [7, 8]])  # (4,2)\n",
        "a = np.array([[1, 1]])  # (1,2)\n",
        "b = np.array([[1], [2]])  # (2,1)\n",
        "ans = complicated_matrix_function(M, a, b)\n",
        "print(ans)\n",
        "print()\n",
        "print(\"dimension : \", ans.shape)"
      ]
    },
    {
      "cell_type": "code",
      "execution_count": 30,
      "metadata": {
        "colab": {
          "base_uri": "https://localhost:8080/"
        },
        "id": "bPEH0UxyAf4B",
        "outputId": "e3573da0-3a46-49b6-85d6-240a26302410"
      },
      "outputs": [
        {
          "output_type": "stream",
          "name": "stdout",
          "text": [
            "[[ 20]\n",
            " [100]]\n",
            "\n",
            "dimension :  (2, 1)\n"
          ]
        }
      ],
      "source": [
        "M_2 = np.array(range(4)).reshape((2,2))\n",
        "a_2 = np.array([[1,1]])\n",
        "b_2 = np.array([[10, 10]]).T\n",
        "\n",
        "# La réponse retournée doit être $[[20], [100]]$ de dimension (2, 1).\n",
        "ans = complicated_matrix_function(M_2, a_2, b_2)\n",
        "print(ans)\n",
        "print()\n",
        "print(\"dimension : \", ans.shape)"
      ]
    },
    {
      "cell_type": "markdown",
      "metadata": {
        "id": "vexRESzjAf4B"
      },
      "source": [
        "### Question 2.4\n",
        "Implémentez les fonctions `svd()` et `get_singular_values()`. Dans `svd()`, vous devez effectuer une décomposition en valeurs singulières ([plus d'info](https://fr.wikipedia.org/wiki/D%C3%A9composition_en_valeurs_singuli%C3%A8res)) de la matrice fournie en entrée. La fonction `get_singular_values()` doit retourner les k plus grandes valeurs singulières (k est donné en paramètre lors d'appels de cette fonction)."
      ]
    },
    {
      "cell_type": "code",
      "execution_count": 31,
      "metadata": {
        "colab": {
          "base_uri": "https://localhost:8080/",
          "height": 234
        },
        "id": "p49p2-PRAf4C",
        "outputId": "3585541c-4cdc-4def-bc68-ba4c1a51e202"
      },
      "outputs": [
        {
          "output_type": "stream",
          "name": "stdout",
          "text": [
            "None\n",
            "None\n"
          ]
        },
        {
          "output_type": "error",
          "ename": "TypeError",
          "evalue": "'NoneType' object is not subscriptable",
          "traceback": [
            "\u001b[0;31m---------------------------------------------------------------------------\u001b[0m",
            "\u001b[0;31mTypeError\u001b[0m                                 Traceback (most recent call last)",
            "\u001b[0;32m<ipython-input-31-b382a67174dd>\u001b[0m in \u001b[0;36m<cell line: 0>\u001b[0;34m()\u001b[0m\n\u001b[1;32m      9\u001b[0m \u001b[0;34m\u001b[0m\u001b[0m\n\u001b[1;32m     10\u001b[0m \u001b[0;31m# Assurons-nous que la première valeur singulière dans les deux appels est la même.\u001b[0m\u001b[0;34m\u001b[0m\u001b[0;34m\u001b[0m\u001b[0m\n\u001b[0;32m---> 11\u001b[0;31m \u001b[0;32massert\u001b[0m \u001b[0monly_first_singular_value\u001b[0m\u001b[0;34m[\u001b[0m\u001b[0;36m0\u001b[0m\u001b[0;34m]\u001b[0m \u001b[0;34m==\u001b[0m \u001b[0mfirst_two_singular_values\u001b[0m\u001b[0;34m[\u001b[0m\u001b[0;36m0\u001b[0m\u001b[0;34m]\u001b[0m\u001b[0;34m\u001b[0m\u001b[0;34m\u001b[0m\u001b[0m\n\u001b[0m",
            "\u001b[0;31mTypeError\u001b[0m: 'NoneType' object is not subscriptable"
          ]
        }
      ],
      "source": [
        "# Renvoyons d'abord la première valeur singulière et affichons la. Elle doit être ~ 25.46.\n",
        "only_first_singular_value = get_singular_values(M, 1)\n",
        "print(only_first_singular_value)\n",
        "\n",
        "# Maintenant, Récupérons les deux premières valeurs singulières.\n",
        "# Notez que la première valeur singulière est beaucoup plus grande que la seconde.\n",
        "first_two_singular_values = get_singular_values(M, 2)\n",
        "print(first_two_singular_values)\n",
        "\n",
        "# Assurons-nous que la première valeur singulière dans les deux appels est la même.\n",
        "assert only_first_singular_value[0] == first_two_singular_values[0]"
      ]
    },
    {
      "cell_type": "markdown",
      "metadata": {
        "id": "wMNkuTfWAf4C"
      },
      "source": [
        "### Question 2.5\n",
        "Implementez les méthodes `eigen_decomp()` et `get_eigen_values_and_vectors()`. Vous devez effectuer ici la décomposition en valeurs propres ([plus d'infos](https://fr.wikipedia.org/wiki/D%C3%A9composition_d%27une_matrice_en_%C3%A9l%C3%A9ments_propres)) de la matrice ci-dessous, puis retourner les k plus grandes valeurs propres et vecteurs propres associés.\n",
        "\n",
        "$$M = \\begin{bmatrix}\n",
        "1 & 2 & 3 \\\\\n",
        "4 & 5 & 6 \\\\\n",
        "7 & 8 & 9 \\end{bmatrix}\n",
        "$$\n"
      ]
    },
    {
      "cell_type": "code",
      "execution_count": 36,
      "metadata": {
        "colab": {
          "base_uri": "https://localhost:8080/",
          "height": 359
        },
        "id": "wMc9HbRlAf4D",
        "outputId": "913b8ca1-a41d-460a-d9e1-201f91fac138"
      },
      "outputs": [
        {
          "output_type": "stream",
          "name": "stdout",
          "text": [
            "Première valeur propre =  [16.11684397]\n",
            "\n",
            "Premier vecteur propre = \n",
            " [[-0.23197069]\n",
            " [-0.52532209]\n",
            " [-0.8186735 ]]\n",
            "\n"
          ]
        },
        {
          "output_type": "error",
          "ename": "AssertionError",
          "evalue": "",
          "traceback": [
            "\u001b[0;31m---------------------------------------------------------------------------\u001b[0m",
            "\u001b[0;31mAssertionError\u001b[0m                            Traceback (most recent call last)",
            "\u001b[0;32m<ipython-input-36-8b701b0c30f4>\u001b[0m in \u001b[0;36m<cell line: 0>\u001b[0;34m()\u001b[0m\n\u001b[1;32m     15\u001b[0m \u001b[0mprint\u001b[0m\u001b[0;34m(\u001b[0m\u001b[0;34m\"Premier vecteur propre = \\n\"\u001b[0m\u001b[0;34m,\u001b[0m \u001b[0mvec\u001b[0m\u001b[0;34m)\u001b[0m\u001b[0;34m\u001b[0m\u001b[0;34m\u001b[0m\u001b[0m\n\u001b[1;32m     16\u001b[0m \u001b[0mprint\u001b[0m\u001b[0;34m(\u001b[0m\u001b[0;34m)\u001b[0m\u001b[0;34m\u001b[0m\u001b[0;34m\u001b[0m\u001b[0m\n\u001b[0;32m---> 17\u001b[0;31m \u001b[0;32massert\u001b[0m \u001b[0mlen\u001b[0m\u001b[0;34m(\u001b[0m\u001b[0mvec\u001b[0m\u001b[0;34m)\u001b[0m \u001b[0;34m==\u001b[0m \u001b[0;36m1\u001b[0m\u001b[0;34m\u001b[0m\u001b[0;34m\u001b[0m\u001b[0m\n\u001b[0m\u001b[1;32m     18\u001b[0m \u001b[0;34m\u001b[0m\u001b[0m\n\u001b[1;32m     19\u001b[0m \u001b[0;31m# Maintenant, récupérons les deux premières valeurs propres et vecteurs propres.\u001b[0m\u001b[0;34m\u001b[0m\u001b[0;34m\u001b[0m\u001b[0m\n",
            "\u001b[0;31mAssertionError\u001b[0m: "
          ]
        }
      ],
      "source": [
        "# Commençons par définir la matrice  M.\n",
        "import numpy as np\n",
        "M = np.array([[1,2,3],\n",
        "              [4,5,6],\n",
        "              [7,8,9]])\n",
        "# Appuyez-vous sur votre réponse à la question 1.1 plus haut et remplacez 'pass'\n",
        "# par une instruction corrècte\n",
        "pass\n",
        "\n",
        "# Récupérons maintenant la première valeur propre et le premier vecteur propre.\n",
        "# Votre résultat doit retourner une seule valeur propre et un seul vecteur propre.\n",
        "val, vec = get_eigen_values_and_vectors(M, 1)\n",
        "print(\"Première valeur propre = \", val)\n",
        "print()\n",
        "print(\"Premier vecteur propre = \\n\", vec)\n",
        "print()\n",
        "assert len(vec) == 1\n",
        "\n",
        "# Maintenant, récupérons les deux premières valeurs propres et vecteurs propres.\n",
        "# Votre résultat doit retourner une liste de deux valeurs propres et une liste de deux tableaux (deux vecteurs propres).\n",
        "val, vec = get_eigen_values_and_vectors(M, 2)\n",
        "print(\"Valeurs propres = \", val)\n",
        "print()\n",
        "print(\"Vecteurs propres = \\n\", vec)\n",
        "assert len(vec) == 2"
      ]
    },
    {
      "cell_type": "markdown",
      "metadata": {
        "id": "LDlvCTTiAf4D"
      },
      "source": [
        "## 3. Manipulation d'images\n",
        "\n",
        "Dans cette deuxième partie, commençons par charger en mémoire quelques images afin de réaliser des opérations matricielles dessus. A la fin de cette section, vous aurez implémenté toutes les fonctions dans le fichier `imageManip.py`"
      ]
    },
    {
      "cell_type": "code",
      "execution_count": null,
      "metadata": {
        "id": "CweGMXhVAf4E"
      },
      "outputs": [],
      "source": [
        "# Exécutez ce code pour définir les emplacements des images que nous utiliserons.\n",
        "# Vous pouvez modifier ces chemins pour pointer vers vos propres images si vous voulez vous amuser.\n",
        "\n",
        "image1_path = './image1.jpg'\n",
        "image2_path = './image2.jpg'\n",
        "\n",
        "# Définition d'une fonction locale pour\n",
        "# l'affichage d'images dans ce notebook\n",
        "\n",
        "def display(img):\n",
        "    # Show image\n",
        "    plt.figure(figsize = (5,5))\n",
        "    plt.imshow(img)\n",
        "    plt.axis('off')\n",
        "    plt.show()"
      ]
    },
    {
      "cell_type": "markdown",
      "metadata": {
        "id": "XME2YbwLAf4E"
      },
      "source": [
        "### Question 3.1\n",
        "Implémentez la méthode de chargement `load()` dans `imageManip.py`. Les images chargées seront utilisées dans le reste de ce notebook pour visualiser vos résultats."
      ]
    },
    {
      "cell_type": "code",
      "execution_count": null,
      "metadata": {
        "id": "1XnDpj6FAf4F"
      },
      "outputs": [],
      "source": [
        "image1 = load(image1_path)\n",
        "image2 = load(image2_path)\n",
        "\n",
        "display(image1)\n",
        "display(image2)"
      ]
    },
    {
      "cell_type": "markdown",
      "metadata": {
        "id": "kZmVFgHUAf4G"
      },
      "source": [
        "### Question 3.2\n",
        "Implémentez la méthode `dim_image()` qui transforme une image fournie en entrée en utilisant la formule $x_n = 0.5 \\times x_p^2$ pour chaque pixel, où $x_n$ est la nouvelle valeur et $x_p$ est la valeur initiale.\n",
        "\n",
        "**Remarque :** Rappelons que les valeurs d'intensité d'une image en virgule flottante doivent être dans la plage $[0.0, 1.0]$. Ainsi, la formule ci-dessus réduira les valeurs de ces intensités et produira donc une image plus sombre."
      ]
    },
    {
      "cell_type": "code",
      "execution_count": null,
      "metadata": {
        "scrolled": true,
        "id": "HkUdHqkoAf4G"
      },
      "outputs": [],
      "source": [
        "new_image = dim_image(image1)\n",
        "display(new_image)"
      ]
    },
    {
      "cell_type": "markdown",
      "metadata": {
        "id": "YE_AwuomAf4H"
      },
      "source": [
        "### Question 3.3\n",
        "Implémentez la méthode `convert_to_grey_scale()` pour convertir une image en niveaux de gris (c.f. voir description de la fonction dans le fichier `imageManip.py` pour plus de détails)."
      ]
    },
    {
      "cell_type": "code",
      "execution_count": null,
      "metadata": {
        "id": "7BAWS7jVAf4H"
      },
      "outputs": [],
      "source": [
        "grey_image = convert_to_grey_scale(image1)\n",
        "display(grey_image)"
      ]
    },
    {
      "cell_type": "markdown",
      "metadata": {
        "id": "p29DmXExAf4I"
      },
      "source": [
        "### Question 3.4\n",
        "\n",
        "Implémentez la méthode `rgb_exclusion()` pour décomposer une image en ces trois canaux R (rouge), G (vert), B (bleu), puis retourner une nouvelle image en excluant le canal spécifié."
      ]
    },
    {
      "cell_type": "code",
      "execution_count": null,
      "metadata": {
        "scrolled": true,
        "id": "mLrI_kxOAf4I"
      },
      "outputs": [],
      "source": [
        "without_red = rgb_exclusion(image1, 'R')\n",
        "without_blue = rgb_exclusion(image1, 'B')\n",
        "without_green = rgb_exclusion(image1, 'G')\n",
        "\n",
        "print(\"Ci-dessous, l'image n°1 où le canal rouge a été supprimé.\")\n",
        "display(without_red)\n",
        "\n",
        "print(\"Ci-dessous, l'image n°1 où le canal vert a été supprimé.\")\n",
        "display(without_green)\n",
        "\n",
        "print(\"Ci-dessous, l'image n°1 où le canal bleu a été supprimé.\")\n",
        "display(without_blue)"
      ]
    },
    {
      "cell_type": "markdown",
      "metadata": {
        "id": "9cRnhQmqAf4K"
      },
      "source": [
        "### Question 3.5\n",
        "Implémentez la méthode `lab_decomposition()` pour décomposer une image en ces trois canaux L*, a*, b*, puis retournez le canal spécifié ([plus d'info](https://fr.wikipedia.org/wiki/L*a*b*_CIE_1976))."
      ]
    },
    {
      "cell_type": "code",
      "execution_count": null,
      "metadata": {
        "scrolled": true,
        "id": "eBpjDkEBAf4L"
      },
      "outputs": [],
      "source": [
        "image_l = lab_decomposition(image1, 'L')\n",
        "image_a = lab_decomposition(image1, 'A')\n",
        "image_b = lab_decomposition(image1, 'B')\n",
        "\n",
        "print(\"Ci-dessous, le canal L* dans la décomposition L*a*b* de l'image n°1\")\n",
        "display(image_l)\n",
        "\n",
        "print(\"Ci-dessous, le canal a* dans la décomposition L*a*b* de l'image n°1\")\n",
        "display(image_a)\n",
        "\n",
        "print(\"Ci-dessous, le canal b* dans la décomposition L*a*b* de l'image n°1\")\n",
        "display(image_b)"
      ]
    },
    {
      "cell_type": "markdown",
      "metadata": {
        "id": "UdDylzHnAf4M"
      },
      "source": [
        "### Question 3.6\n",
        "Implémentez la méthode `hsv_decomposition()` pour décomposer une image en ces trois canaux H, S, V, puis retournez le canal spécifié ([plus d'info](https://fr.wikipedia.org/wiki/Teinte_Saturation_Valeur))."
      ]
    },
    {
      "cell_type": "code",
      "execution_count": null,
      "metadata": {
        "id": "hGCNuoKGAf4M"
      },
      "outputs": [],
      "source": [
        "image_h = hsv_decomposition(image1, 'H')\n",
        "image_s = hsv_decomposition(image1, 'S')\n",
        "image_v = hsv_decomposition(image1, 'V')\n",
        "\n",
        "print(\"Ci-dessous, le canal H dans la décomposition HSV de l'image n°1\")\n",
        "display(image_h)\n",
        "\n",
        "print(\"Ci-dessous, le canal S dans la décomposition HSV de l'image n°1\")\n",
        "display(image_s)\n",
        "\n",
        "print(\"Ci-dessous, le canal V dans la décomposition HSV de l'image n°1\")\n",
        "display(image_v)"
      ]
    },
    {
      "cell_type": "markdown",
      "metadata": {
        "id": "tIpETIvKAf4O"
      },
      "source": [
        "### Question 3.7\n",
        "Dans la méthode `mix_images()`, créez une nouvelle image constituée de la moitié gauche de l'image n°1 et la moitié droite de l'image n°2. Pour chaque image en entrée, vous devez exclure le canal spécifié.\n",
        "\n",
        "Une implémentation correcte devrait afficher la moitié gauche du Mandrill sans le canal rouge et la moitié droite de l'image des maisons sans le canal vert."
      ]
    },
    {
      "cell_type": "code",
      "execution_count": null,
      "metadata": {
        "id": "WfV78_ZNAf4P"
      },
      "outputs": [],
      "source": [
        "image_mixed = mix_images(image1, image2, channel1='R', channel2='G')\n",
        "display(image_mixed)\n",
        "\n",
        "#Test de vérification : la somme des pixels de l'image doit être ~76417.51\n",
        "np.sum(image_mixed)"
      ]
    },
    {
      "cell_type": "markdown",
      "metadata": {
        "id": "DY1pWcz3Af4P"
      },
      "source": [
        "### Question 3.8\n",
        "\n",
        "Implémentez la fonction `mix_quadrants()` dans `imageManip.py`.\n",
        "Cette fonction prend une image et effectue une opération différente sur chacun des quatre quadrants de l'image. Ensuite, elle combine les quatre quadrants ensemble.\n",
        "\n",
        "Voici les quatre opérations que vous devez effectuer sur les 4 quadrants :\n",
        "- Quadrant supérieur gauche : supprimez le canal \"R\" à l'aide de `rgb_exclusion()`.\n",
        "- Quadrant supérieur droit : atténuez le quadrant à l'aide de `dim_image()`.\n",
        "- Quadrant inférieur gauche : éclaircissez le quadrant à l'aide de la fonction  $x_n = x_p^{0.5}$\n",
        "- Quadrant inférieur droit : supprimez le canal \"R\" à l'aide de `rgb_exclusion()`."
      ]
    },
    {
      "cell_type": "code",
      "execution_count": null,
      "metadata": {
        "id": "S-M6Z0lRAf4Q"
      },
      "outputs": [],
      "source": [
        "mixed_quadrants = mix_quadrants(image1)\n",
        "display(mixed_quadrants)"
      ]
    },
    {
      "cell_type": "markdown",
      "metadata": {
        "id": "7FoDlMI0Af4Q"
      },
      "source": [
        "## 4. Livrables\n",
        "### 4.1. Le code (à remettre sur [benhadid.ddns.net](https://benhadid.ddns.net/course/M1_VPO/hw0))\n",
        "\n",
        "Le fichier \"devoir1.zip\" contenant les fichiers **`linalg.py`** et **`imageManip.py`** modifiés dans les zones indiquées par `### VOTRE CODE ICI - DEBUT` et `### VOTRE CODE ICI - FIN`.\n",
        "\n",
        "**Le code sera remis <del>en classe pendant votre séance de TP</del> au serveur INGInious - <span style='color:Red'> aucun document ou code ne sera accepté si envoyé par mail ou clé USB</span>**."
      ]
    },
    {
      "cell_type": "code",
      "execution_count": null,
      "metadata": {
        "id": "HfZ66VFWAf4Q"
      },
      "outputs": [],
      "source": [
        "# Exécutez cette cellule puis récupérez votre fichier \"devoir1.zip\" depuis le panneau gauche dans Colab\n",
        "# Si nécessaire, faites un 'refresh' sur le répertoire pour faire apparaître le fichier 'devoir1.zip'\n",
        "\n",
        "!zip -r ./devoir1.zip linalg.py imageManip.py"
      ]
    }
  ],
  "metadata": {
    "kernelspec": {
      "display_name": "Python 3",
      "language": "python",
      "name": "python3"
    },
    "language_info": {
      "codemirror_mode": {
        "name": "ipython",
        "version": 3
      },
      "file_extension": ".py",
      "mimetype": "text/x-python",
      "name": "python",
      "nbconvert_exporter": "python",
      "pygments_lexer": "ipython3",
      "version": "3.9.2"
    },
    "vscode": {
      "interpreter": {
        "hash": "916dbcbb3f70747c44a77c7bcd40155683ae19c65e1c03b4aa3499c5328201f1"
      }
    },
    "colab": {
      "provenance": [],
      "include_colab_link": true
    }
  },
  "nbformat": 4,
  "nbformat_minor": 0
}